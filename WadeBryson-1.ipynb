{
 "cells": [
  {
   "attachments": {},
   "cell_type": "markdown",
   "metadata": {},
   "source": [
    "# **Module 4 Project Part 1**\n",
    "#### Author: Wade Bryson\n",
    "#### GitHub Link: https://github.com/WadeBryson\n",
    "***"
   ]
  },
  {
   "attachments": {},
   "cell_type": "markdown",
   "metadata": {},
   "source": [
    "## **Task 1 - Series**"
   ]
  },
  {
   "cell_type": "code",
   "execution_count": 1,
   "metadata": {},
   "outputs": [],
   "source": [
    "# Importing Pandas and Numpy\n",
    "import pandas as pd\n",
    "import numpy as np\n"
   ]
  },
  {
   "attachments": {},
   "cell_type": "markdown",
   "metadata": {},
   "source": [
    "#### *Series of Exam Scores*"
   ]
  },
  {
   "cell_type": "code",
   "execution_count": 2,
   "metadata": {},
   "outputs": [
    {
     "name": "stdout",
     "output_type": "stream",
     "text": [
      "Below is a table of exam scores.\n",
      "0     87\n",
      "1    100\n",
      "2     94\n",
      "3     91\n",
      "4     74\n",
      "5     85\n",
      "6     98\n",
      "7    100\n",
      "8     82\n",
      "9     88\n",
      "dtype: int64\n"
     ]
    }
   ],
   "source": [
    "# Creating a Series of Exam Scores\n",
    "grades = pd.Series([87, 100, 94, 91, 74, 85, 98, 100, 82, 88])\n",
    "print (\"Below is a table of exam scores.\")\n",
    "print (grades)\n"
   ]
  },
  {
   "attachments": {},
   "cell_type": "markdown",
   "metadata": {},
   "source": [
    "#### *Descriptive Statistics found one variable at a time*"
   ]
  },
  {
   "cell_type": "code",
   "execution_count": 3,
   "metadata": {},
   "outputs": [
    {
     "name": "stdout",
     "output_type": "stream",
     "text": [
      "What was the score of the first exam turned in? 87\n",
      "How many scores are in your list? 10\n",
      "What was the average score? 89.9\n",
      "What was the lowest score? 74\n",
      "What was the highest score? 100\n",
      "What was the standard deviation? 8.43\n"
     ]
    }
   ],
   "source": [
    "# Finding the first grade\n",
    "grade1 = grades[0]\n",
    "print (\"What was the score of the first exam turned in?\", grade1)\n",
    "\n",
    "# Finding how many exam scores you have\n",
    "count1 = grades.count()\n",
    "print (\"How many scores are in your list?\", count1)\n",
    "# Finding the average\n",
    "ave_grade = grades.mean()\n",
    "print (\"What was the average score?\", ave_grade)\n",
    "# Finding the minimum\n",
    "mingrade = grades.min()\n",
    "print (\"What was the lowest score?\", mingrade)\n",
    "# Finding the maximum\n",
    "maxgrade = grades.max()\n",
    "print (\"What was the highest score?\", maxgrade)\n",
    "# Finding the standard deviation\n",
    "stdgrade = grades.std()\n",
    "nicestd = round(stdgrade, 2)\n",
    "print (\"What was the standard deviation?\", nicestd)\n"
   ]
  },
  {
   "attachments": {},
   "cell_type": "markdown",
   "metadata": {},
   "source": [
    "#### *Descriptive Statistics found using the describe() function*"
   ]
  },
  {
   "cell_type": "code",
   "execution_count": 4,
   "metadata": {},
   "outputs": [
    {
     "name": "stdout",
     "output_type": "stream",
     "text": [
      "Here is a generated description of your data:\n"
     ]
    },
    {
     "data": {
      "text/plain": [
       "count     10.00000\n",
       "mean      89.90000\n",
       "std        8.42549\n",
       "min       74.00000\n",
       "25%       85.50000\n",
       "50%       89.50000\n",
       "75%       97.00000\n",
       "max      100.00000\n",
       "dtype: float64"
      ]
     },
     "execution_count": 4,
     "metadata": {},
     "output_type": "execute_result"
    }
   ],
   "source": [
    "# Using describe() to describe the data\n",
    "print (\"Here is a generated description of your data:\")\n",
    "grades.describe()\n",
    "\n"
   ]
  },
  {
   "attachments": {},
   "cell_type": "markdown",
   "metadata": {},
   "source": [
    "***"
   ]
  },
  {
   "attachments": {},
   "cell_type": "markdown",
   "metadata": {},
   "source": [
    "## **Task 2 - Series from Dictionary**"
   ]
  },
  {
   "attachments": {},
   "cell_type": "markdown",
   "metadata": {},
   "source": [
    "#### *Creating a series using a dictionary as the key*"
   ]
  },
  {
   "cell_type": "code",
   "execution_count": 5,
   "metadata": {},
   "outputs": [
    {
     "data": {
      "text/plain": [
       "Wally     87\n",
       "Eva      100\n",
       "Sam       94\n",
       "dtype: int64"
      ]
     },
     "execution_count": 5,
     "metadata": {},
     "output_type": "execute_result"
    }
   ],
   "source": [
    "# Creating a Series using a dictionary\n",
    "grades = pd.Series({'Wally': 87, 'Eva': 100, 'Sam': 94})\n",
    "grades"
   ]
  },
  {
   "attachments": {},
   "cell_type": "markdown",
   "metadata": {},
   "source": [
    "#### *Finding values in the series using built in functions*"
   ]
  },
  {
   "cell_type": "code",
   "execution_count": 6,
   "metadata": {},
   "outputs": [
    {
     "name": "stdout",
     "output_type": "stream",
     "text": [
      "What score did Eva get on the exam? 100\n",
      "What score did Wally get on the exam? 87\n"
     ]
    },
    {
     "data": {
      "text/plain": [
       "array([ 87, 100,  94], dtype=int64)"
      ]
     },
     "execution_count": 6,
     "metadata": {},
     "output_type": "execute_result"
    }
   ],
   "source": [
    "# Getting Eva's score\n",
    "evagrade = grades['Eva']\n",
    "print (\"What score did Eva get on the exam?\", evagrade)\n",
    "# Getting Wally's score\n",
    "wallygrade = grades.Wally\n",
    "print (\"What score did Wally get on the exam?\", wallygrade)\n",
    "# Using the .values to display the values\n",
    "grades.values"
   ]
  },
  {
   "attachments": {},
   "cell_type": "markdown",
   "metadata": {},
   "source": [
    "#### *Task 2-6 pg.266 Self Check*"
   ]
  },
  {
   "cell_type": "code",
   "execution_count": 7,
   "metadata": {},
   "outputs": [
    {
     "name": "stdout",
     "output_type": "stream",
     "text": [
      "0    61\n",
      "1    83\n",
      "2    94\n",
      "3    75\n",
      "4    90\n",
      "5    89\n",
      "dtype: int32\n",
      "What was the lowest temperature? 61\n",
      "What was the highest temperature? 94\n",
      "What was the average temperature? 82.0\n",
      "Here is a generated description of your data:\n"
     ]
    },
    {
     "data": {
      "text/plain": [
       "count     6.000000\n",
       "mean     82.000000\n",
       "std      12.231108\n",
       "min      61.000000\n",
       "25%      77.000000\n",
       "50%      86.000000\n",
       "75%      89.750000\n",
       "max      94.000000\n",
       "dtype: float64"
      ]
     },
     "execution_count": 7,
     "metadata": {},
     "output_type": "execute_result"
    }
   ],
   "source": [
    "# pg. 266 Self Check\n",
    "# Creating the random temperatures\n",
    "temps = np.random.randint(60, 101, 6)\n",
    "# Taking the random temperatures and putting them into a Series\n",
    "temperatures = pd.Series(temps)\n",
    "# Displaying the temperature\n",
    "print (temperatures)\n",
    "\n",
    "# Finding the min, max, and average\n",
    "mintemp = temperatures.min()\n",
    "maxtemp = temperatures.max()\n",
    "avetemp = temperatures.mean()\n",
    "print (\"What was the lowest temperature?\", mintemp)\n",
    "print (\"What was the highest temperature?\", maxtemp)\n",
    "print (\"What was the average temperature?\", avetemp)\n",
    "\n",
    "# Using describe() to generate a description of the data\n",
    "print (\"Here is a generated description of your data:\")\n",
    "temperatures.describe()"
   ]
  }
 ],
 "metadata": {
  "kernelspec": {
   "display_name": "Python (.venv)",
   "language": "python",
   "name": ".venv"
  },
  "language_info": {
   "codemirror_mode": {
    "name": "ipython",
    "version": 3
   },
   "file_extension": ".py",
   "mimetype": "text/x-python",
   "name": "python",
   "nbconvert_exporter": "python",
   "pygments_lexer": "ipython3",
   "version": "3.11.3"
  },
  "orig_nbformat": 4
 },
 "nbformat": 4,
 "nbformat_minor": 2
}
